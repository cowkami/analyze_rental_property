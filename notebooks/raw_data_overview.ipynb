{
 "cells": [
  {
   "cell_type": "code",
   "execution_count": 1,
   "metadata": {},
   "outputs": [],
   "source": [
    "import os\n",
    "import sys\n",
    "from pathlib import Path\n",
    "sys.path.append('..')\n",
    "\n",
    "import matplotlib.pyplot as plt\n",
    "import seaborn as sns\n",
    "import pandas as pd\n",
    "\n",
    "%load_ext autoreload\n",
    "%autoreload 2\n",
    "\n",
    "from src.constants import *\n",
    "from src.utils import composite_func, extract_digit, load_all_csv\n",
    "from src.preprocess import (\n",
    "    drop_cols,\n",
    "    disolve_address_col,\n",
    "    disolve_location_cols,\n",
    "    int_age_col,\n",
    "    num_story_col,\n",
    "    int_floor_col,\n",
    "    fee2int_col,\n",
    "    area2float_col,\n",
    "    preprocess\n",
    ")"
   ]
  },
  {
   "cell_type": "code",
   "execution_count": 2,
   "metadata": {},
   "outputs": [
    {
     "data": {
      "text/html": [
       "<div>\n",
       "<style scoped>\n",
       "    .dataframe tbody tr th:only-of-type {\n",
       "        vertical-align: middle;\n",
       "    }\n",
       "\n",
       "    .dataframe tbody tr th {\n",
       "        vertical-align: top;\n",
       "    }\n",
       "\n",
       "    .dataframe thead th {\n",
       "        text-align: right;\n",
       "    }\n",
       "</style>\n",
       "<table border=\"1\" class=\"dataframe\">\n",
       "  <thead>\n",
       "    <tr style=\"text-align: right;\">\n",
       "      <th></th>\n",
       "      <th>Unnamed: 0</th>\n",
       "      <th>name</th>\n",
       "      <th>address</th>\n",
       "      <th>location0</th>\n",
       "      <th>location1</th>\n",
       "      <th>location2</th>\n",
       "      <th>age</th>\n",
       "      <th>height</th>\n",
       "      <th>floor</th>\n",
       "      <th>rent</th>\n",
       "      <th>admin</th>\n",
       "      <th>deposit</th>\n",
       "      <th>gratuity</th>\n",
       "      <th>floor_plan</th>\n",
       "      <th>area</th>\n",
       "      <th>architecture</th>\n",
       "      <th>district</th>\n",
       "    </tr>\n",
       "  </thead>\n",
       "  <tbody>\n",
       "    <tr>\n",
       "      <th>0</th>\n",
       "      <td>0</td>\n",
       "      <td>京急空港線 大鳥居駅 5階建 築9年</td>\n",
       "      <td>東京都大田区東糀谷２</td>\n",
       "      <td>京急空港線/大鳥居駅 歩7分</td>\n",
       "      <td>京急空港線/糀谷駅 歩13分</td>\n",
       "      <td>京急空港線/穴守稲荷駅 歩14分</td>\n",
       "      <td>築9年</td>\n",
       "      <td>5階建</td>\n",
       "      <td>2階</td>\n",
       "      <td>9万円</td>\n",
       "      <td>4000円</td>\n",
       "      <td>-</td>\n",
       "      <td>9万円</td>\n",
       "      <td>1K</td>\n",
       "      <td>27.74m2</td>\n",
       "      <td>鉄筋系</td>\n",
       "      <td>大田区</td>\n",
       "    </tr>\n",
       "    <tr>\n",
       "      <th>1</th>\n",
       "      <td>1</td>\n",
       "      <td>京急空港線 大鳥居駅 5階建 築9年</td>\n",
       "      <td>東京都大田区東糀谷２</td>\n",
       "      <td>京急空港線/大鳥居駅 歩7分</td>\n",
       "      <td>京急空港線/糀谷駅 歩13分</td>\n",
       "      <td>京急空港線/穴守稲荷駅 歩14分</td>\n",
       "      <td>築9年</td>\n",
       "      <td>5階建</td>\n",
       "      <td>4階</td>\n",
       "      <td>9.2万円</td>\n",
       "      <td>4000円</td>\n",
       "      <td>-</td>\n",
       "      <td>9.2万円</td>\n",
       "      <td>1K</td>\n",
       "      <td>27.74m2</td>\n",
       "      <td>鉄筋系</td>\n",
       "      <td>大田区</td>\n",
       "    </tr>\n",
       "    <tr>\n",
       "      <th>2</th>\n",
       "      <td>2</td>\n",
       "      <td>京急空港線 大鳥居駅 5階建 築9年</td>\n",
       "      <td>東京都大田区東糀谷２</td>\n",
       "      <td>京急空港線/大鳥居駅 歩7分</td>\n",
       "      <td>京急空港線/糀谷駅 歩13分</td>\n",
       "      <td>京急空港線/穴守稲荷駅 歩14分</td>\n",
       "      <td>築9年</td>\n",
       "      <td>5階建</td>\n",
       "      <td>4階</td>\n",
       "      <td>9.2万円</td>\n",
       "      <td>4000円</td>\n",
       "      <td>-</td>\n",
       "      <td>9.2万円</td>\n",
       "      <td>1K</td>\n",
       "      <td>27.74m2</td>\n",
       "      <td>鉄筋系</td>\n",
       "      <td>大田区</td>\n",
       "    </tr>\n",
       "    <tr>\n",
       "      <th>3</th>\n",
       "      <td>3</td>\n",
       "      <td>京急空港線 大鳥居駅 5階建 築9年</td>\n",
       "      <td>東京都大田区東糀谷２</td>\n",
       "      <td>京急空港線/大鳥居駅 歩7分</td>\n",
       "      <td>京急空港線/糀谷駅 歩13分</td>\n",
       "      <td>京急空港線/穴守稲荷駅 歩14分</td>\n",
       "      <td>築9年</td>\n",
       "      <td>5階建</td>\n",
       "      <td>4階</td>\n",
       "      <td>12.3万円</td>\n",
       "      <td>6000円</td>\n",
       "      <td>-</td>\n",
       "      <td>12.3万円</td>\n",
       "      <td>1LDK</td>\n",
       "      <td>41.05m2</td>\n",
       "      <td>鉄筋系</td>\n",
       "      <td>大田区</td>\n",
       "    </tr>\n",
       "    <tr>\n",
       "      <th>4</th>\n",
       "      <td>4</td>\n",
       "      <td>東急大井町線 旗の台駅 5階建 築11年</td>\n",
       "      <td>東京都大田区北馬込１</td>\n",
       "      <td>東急大井町線/旗の台駅 歩7分</td>\n",
       "      <td>東急池上線/長原駅 歩5分</td>\n",
       "      <td>東急大井町線/荏原町駅 歩11分</td>\n",
       "      <td>築11年</td>\n",
       "      <td>5階建</td>\n",
       "      <td>4階</td>\n",
       "      <td>10.4万円</td>\n",
       "      <td>6000円</td>\n",
       "      <td>-</td>\n",
       "      <td>10.4万円</td>\n",
       "      <td>1K</td>\n",
       "      <td>27.73m2</td>\n",
       "      <td>鉄筋系</td>\n",
       "      <td>大田区</td>\n",
       "    </tr>\n",
       "  </tbody>\n",
       "</table>\n",
       "</div>"
      ],
      "text/plain": [
       "  Unnamed: 0                  name     address        location0  \\\n",
       "0          0    京急空港線 大鳥居駅 5階建 築9年  東京都大田区東糀谷２   京急空港線/大鳥居駅 歩7分   \n",
       "1          1    京急空港線 大鳥居駅 5階建 築9年  東京都大田区東糀谷２   京急空港線/大鳥居駅 歩7分   \n",
       "2          2    京急空港線 大鳥居駅 5階建 築9年  東京都大田区東糀谷２   京急空港線/大鳥居駅 歩7分   \n",
       "3          3    京急空港線 大鳥居駅 5階建 築9年  東京都大田区東糀谷２   京急空港線/大鳥居駅 歩7分   \n",
       "4          4  東急大井町線 旗の台駅 5階建 築11年  東京都大田区北馬込１  東急大井町線/旗の台駅 歩7分   \n",
       "\n",
       "        location1         location2   age height floor    rent  admin deposit  \\\n",
       "0  京急空港線/糀谷駅 歩13分  京急空港線/穴守稲荷駅 歩14分   築9年    5階建    2階     9万円  4000円       -   \n",
       "1  京急空港線/糀谷駅 歩13分  京急空港線/穴守稲荷駅 歩14分   築9年    5階建    4階   9.2万円  4000円       -   \n",
       "2  京急空港線/糀谷駅 歩13分  京急空港線/穴守稲荷駅 歩14分   築9年    5階建    4階   9.2万円  4000円       -   \n",
       "3  京急空港線/糀谷駅 歩13分  京急空港線/穴守稲荷駅 歩14分   築9年    5階建    4階  12.3万円  6000円       -   \n",
       "4   東急池上線/長原駅 歩5分  東急大井町線/荏原町駅 歩11分  築11年    5階建    4階  10.4万円  6000円       -   \n",
       "\n",
       "  gratuity floor_plan     area architecture district  \n",
       "0      9万円         1K  27.74m2          鉄筋系      大田区  \n",
       "1    9.2万円         1K  27.74m2          鉄筋系      大田区  \n",
       "2    9.2万円         1K  27.74m2          鉄筋系      大田区  \n",
       "3   12.3万円       1LDK  41.05m2          鉄筋系      大田区  \n",
       "4   10.4万円         1K  27.73m2          鉄筋系      大田区  "
      ]
     },
     "execution_count": 2,
     "metadata": {},
     "output_type": "execute_result"
    }
   ],
   "source": [
    "df = load_all_csv(data_dir / 'raw')\n",
    "df.head()"
   ]
  },
  {
   "cell_type": "code",
   "execution_count": 3,
   "metadata": {},
   "outputs": [
    {
     "data": {
      "text/plain": [
       "509134"
      ]
     },
     "execution_count": 3,
     "metadata": {},
     "output_type": "execute_result"
    }
   ],
   "source": [
    "# number of rooms in tokyo\n",
    "len(df)"
   ]
  },
  {
   "cell_type": "code",
   "execution_count": 4,
   "metadata": {},
   "outputs": [
    {
     "data": {
      "text/html": [
       "<div>\n",
       "<style scoped>\n",
       "    .dataframe tbody tr th:only-of-type {\n",
       "        vertical-align: middle;\n",
       "    }\n",
       "\n",
       "    .dataframe tbody tr th {\n",
       "        vertical-align: top;\n",
       "    }\n",
       "\n",
       "    .dataframe thead th {\n",
       "        text-align: right;\n",
       "    }\n",
       "</style>\n",
       "<table border=\"1\" class=\"dataframe\">\n",
       "  <thead>\n",
       "    <tr style=\"text-align: right;\">\n",
       "      <th></th>\n",
       "      <th>address</th>\n",
       "      <th>location0</th>\n",
       "      <th>location1</th>\n",
       "      <th>location2</th>\n",
       "      <th>age</th>\n",
       "      <th>height</th>\n",
       "      <th>floor</th>\n",
       "      <th>rent</th>\n",
       "      <th>admin</th>\n",
       "      <th>deposit</th>\n",
       "      <th>gratuity</th>\n",
       "      <th>floor_plan</th>\n",
       "      <th>area</th>\n",
       "      <th>architecture</th>\n",
       "      <th>district</th>\n",
       "    </tr>\n",
       "  </thead>\n",
       "  <tbody>\n",
       "    <tr>\n",
       "      <th>0</th>\n",
       "      <td>東京都大田区東糀谷２</td>\n",
       "      <td>京急空港線/大鳥居駅 歩7分</td>\n",
       "      <td>京急空港線/糀谷駅 歩13分</td>\n",
       "      <td>京急空港線/穴守稲荷駅 歩14分</td>\n",
       "      <td>築9年</td>\n",
       "      <td>5階建</td>\n",
       "      <td>2階</td>\n",
       "      <td>9万円</td>\n",
       "      <td>4000円</td>\n",
       "      <td>-</td>\n",
       "      <td>9万円</td>\n",
       "      <td>1K</td>\n",
       "      <td>27.74m2</td>\n",
       "      <td>鉄筋系</td>\n",
       "      <td>大田区</td>\n",
       "    </tr>\n",
       "    <tr>\n",
       "      <th>1</th>\n",
       "      <td>東京都大田区東糀谷２</td>\n",
       "      <td>京急空港線/大鳥居駅 歩7分</td>\n",
       "      <td>京急空港線/糀谷駅 歩13分</td>\n",
       "      <td>京急空港線/穴守稲荷駅 歩14分</td>\n",
       "      <td>築9年</td>\n",
       "      <td>5階建</td>\n",
       "      <td>4階</td>\n",
       "      <td>9.2万円</td>\n",
       "      <td>4000円</td>\n",
       "      <td>-</td>\n",
       "      <td>9.2万円</td>\n",
       "      <td>1K</td>\n",
       "      <td>27.74m2</td>\n",
       "      <td>鉄筋系</td>\n",
       "      <td>大田区</td>\n",
       "    </tr>\n",
       "    <tr>\n",
       "      <th>2</th>\n",
       "      <td>東京都大田区東糀谷２</td>\n",
       "      <td>京急空港線/大鳥居駅 歩7分</td>\n",
       "      <td>京急空港線/糀谷駅 歩13分</td>\n",
       "      <td>京急空港線/穴守稲荷駅 歩14分</td>\n",
       "      <td>築9年</td>\n",
       "      <td>5階建</td>\n",
       "      <td>4階</td>\n",
       "      <td>9.2万円</td>\n",
       "      <td>4000円</td>\n",
       "      <td>-</td>\n",
       "      <td>9.2万円</td>\n",
       "      <td>1K</td>\n",
       "      <td>27.74m2</td>\n",
       "      <td>鉄筋系</td>\n",
       "      <td>大田区</td>\n",
       "    </tr>\n",
       "    <tr>\n",
       "      <th>3</th>\n",
       "      <td>東京都大田区東糀谷２</td>\n",
       "      <td>京急空港線/大鳥居駅 歩7分</td>\n",
       "      <td>京急空港線/糀谷駅 歩13分</td>\n",
       "      <td>京急空港線/穴守稲荷駅 歩14分</td>\n",
       "      <td>築9年</td>\n",
       "      <td>5階建</td>\n",
       "      <td>4階</td>\n",
       "      <td>12.3万円</td>\n",
       "      <td>6000円</td>\n",
       "      <td>-</td>\n",
       "      <td>12.3万円</td>\n",
       "      <td>1LDK</td>\n",
       "      <td>41.05m2</td>\n",
       "      <td>鉄筋系</td>\n",
       "      <td>大田区</td>\n",
       "    </tr>\n",
       "    <tr>\n",
       "      <th>4</th>\n",
       "      <td>東京都大田区北馬込１</td>\n",
       "      <td>東急大井町線/旗の台駅 歩7分</td>\n",
       "      <td>東急池上線/長原駅 歩5分</td>\n",
       "      <td>東急大井町線/荏原町駅 歩11分</td>\n",
       "      <td>築11年</td>\n",
       "      <td>5階建</td>\n",
       "      <td>4階</td>\n",
       "      <td>10.4万円</td>\n",
       "      <td>6000円</td>\n",
       "      <td>-</td>\n",
       "      <td>10.4万円</td>\n",
       "      <td>1K</td>\n",
       "      <td>27.73m2</td>\n",
       "      <td>鉄筋系</td>\n",
       "      <td>大田区</td>\n",
       "    </tr>\n",
       "  </tbody>\n",
       "</table>\n",
       "</div>"
      ],
      "text/plain": [
       "      address        location0       location1         location2   age height  \\\n",
       "0  東京都大田区東糀谷２   京急空港線/大鳥居駅 歩7分  京急空港線/糀谷駅 歩13分  京急空港線/穴守稲荷駅 歩14分   築9年    5階建   \n",
       "1  東京都大田区東糀谷２   京急空港線/大鳥居駅 歩7分  京急空港線/糀谷駅 歩13分  京急空港線/穴守稲荷駅 歩14分   築9年    5階建   \n",
       "2  東京都大田区東糀谷２   京急空港線/大鳥居駅 歩7分  京急空港線/糀谷駅 歩13分  京急空港線/穴守稲荷駅 歩14分   築9年    5階建   \n",
       "3  東京都大田区東糀谷２   京急空港線/大鳥居駅 歩7分  京急空港線/糀谷駅 歩13分  京急空港線/穴守稲荷駅 歩14分   築9年    5階建   \n",
       "4  東京都大田区北馬込１  東急大井町線/旗の台駅 歩7分   東急池上線/長原駅 歩5分  東急大井町線/荏原町駅 歩11分  築11年    5階建   \n",
       "\n",
       "  floor    rent  admin deposit gratuity floor_plan     area architecture  \\\n",
       "0    2階     9万円  4000円       -      9万円         1K  27.74m2          鉄筋系   \n",
       "1    4階   9.2万円  4000円       -    9.2万円         1K  27.74m2          鉄筋系   \n",
       "2    4階   9.2万円  4000円       -    9.2万円         1K  27.74m2          鉄筋系   \n",
       "3    4階  12.3万円  6000円       -   12.3万円       1LDK  41.05m2          鉄筋系   \n",
       "4    4階  10.4万円  6000円       -   10.4万円         1K  27.73m2          鉄筋系   \n",
       "\n",
       "  district  \n",
       "0      大田区  \n",
       "1      大田区  \n",
       "2      大田区  \n",
       "3      大田区  \n",
       "4      大田区  "
      ]
     },
     "execution_count": 4,
     "metadata": {},
     "output_type": "execute_result"
    }
   ],
   "source": [
    "drop_cols(df.copy()).head()"
   ]
  },
  {
   "cell_type": "code",
   "execution_count": 5,
   "metadata": {},
   "outputs": [
    {
     "name": "stdout",
     "output_type": "stream",
     "text": [
      "CPU times: user 5.77 s, sys: 353 ms, total: 6.12 s\n",
      "Wall time: 6.22 s\n"
     ]
    }
   ],
   "source": [
    "%%time\n",
    "df_loc = disolve_location_cols(df.copy())"
   ]
  },
  {
   "cell_type": "code",
   "execution_count": 6,
   "metadata": {},
   "outputs": [
    {
     "name": "stdout",
     "output_type": "stream",
     "text": [
      "walk_time_0    114\n",
      "walk_time_1    131\n",
      "walk_time_2    223\n",
      "dtype: int64\n",
      "walk_time_0    475284\n",
      "walk_time_1    470454\n",
      "walk_time_2    134517\n",
      "dtype: int64\n"
     ]
    }
   ],
   "source": [
    "print(df_loc[['walk_time_0', 'walk_time_1', 'walk_time_2']].max())\n",
    "print(df_loc[['walk_time_0', 'walk_time_1', 'walk_time_2']].idxmax())"
   ]
  },
  {
   "cell_type": "code",
   "execution_count": 7,
   "metadata": {},
   "outputs": [
    {
     "data": {
      "text/plain": [
       "Unnamed: 0                   3330\n",
       "name            小田急線 町田駅 2階建 築23年\n",
       "address                 東京都町田市常盤町\n",
       "age                          築23年\n",
       "height                        2階建\n",
       "floor                          2階\n",
       "rent                        5.7万円\n",
       "admin                       3000円\n",
       "deposit                         -\n",
       "gratuity                        -\n",
       "floor_plan                    3DK\n",
       "area                      62.92m2\n",
       "architecture                  鉄骨系\n",
       "district                      町田市\n",
       "station_0                小田急線/町田駅\n",
       "walk_time_0                    81\n",
       "bus_time_0                      0\n",
       "station_1           小田急多摩線/小田急永山駅\n",
       "walk_time_1                   131\n",
       "bus_time_1                      0\n",
       "station_2            小田急多摩線/はるひ野駅\n",
       "walk_time_2                   132\n",
       "bus_time_2                      0\n",
       "Name: 470454, dtype: object"
      ]
     },
     "execution_count": 7,
     "metadata": {},
     "output_type": "execute_result"
    }
   ],
   "source": [
    "df_loc.iloc[470454]"
   ]
  },
  {
   "cell_type": "markdown",
   "metadata": {},
   "source": [
    "## Walk time outlier\n",
    "Above apartment has very long walk_times, this is caused by mistake for choosing the nearest station.\n",
    "Suumo algorithm probably searches the nearest station from the apartment **in the prefecture the apartment is placed**.\n",
    "However, there are nearer stations if across the prefecture.\n",
    "In fact, the nearest station from this apartment placed in Tokyo is Yabe station placed in Kanagawa."
   ]
  },
  {
   "cell_type": "code",
   "execution_count": 8,
   "metadata": {},
   "outputs": [
    {
     "data": {
      "image/png": "[encoded data removed]",
      "text/plain": [
       "<Figure size 720x576 with 6 Axes>"
      ]
     },
     "metadata": {
      "needs_background": "light"
     },
     "output_type": "display_data"
    }
   ],
   "source": [
    "df_loc[['walk_time_0', 'walk_time_1', 'walk_time_2', 'bus_time_0', 'bus_time_1', 'bus_time_2']].hist(figsize=(10, 8), bins=100)\n",
    "plt.show()"
   ]
  },
  {
   "cell_type": "code",
   "execution_count": 9,
   "metadata": {},
   "outputs": [],
   "source": [
    "ages = int_age_col(df.copy())['age']"
   ]
  },
  {
   "cell_type": "code",
   "execution_count": 10,
   "metadata": {},
   "outputs": [
    {
     "data": {
      "text/plain": [
       "<AxesSubplot:>"
      ]
     },
     "execution_count": 10,
     "metadata": {},
     "output_type": "execute_result"
    },
    {
     "data": {
      "image/png": "[encoded data removed]",
      "text/plain": [
       "<Figure size 720x360 with 1 Axes>"
      ]
     },
     "metadata": {
      "needs_background": "light"
     },
     "output_type": "display_data"
    }
   ],
   "source": [
    "ages.hist(bins=max(ages), figsize=(10, 5))"
   ]
  },
  {
   "cell_type": "markdown",
   "metadata": {},
   "source": [
    "## Why are there four peaks ?\n",
    "### First head\n",
    "It's just new apartment.\n",
    "\n",
    "### Second head in 2018\n",
    "The rush demand by the cunsumption tax raising 8% to 10%.\n",
    "\n",
    "### Third head in 2006\n",
    "In 2007, the amendment of the building standards law.\n",
    "\n",
    "### Fourth head in 1990.\n",
    "The bubble exploded.\n",
    "The rush demand by the cunsumption tax raising 3% to 5% and the demand by recovering the Hanshin earthquake damages."
   ]
  },
  {
   "cell_type": "code",
   "execution_count": 11,
   "metadata": {},
   "outputs": [
    {
     "name": "stdout",
     "output_type": "stream",
     "text": [
      "CPU times: user 1.66 s, sys: 96.4 ms, total: 1.76 s\n",
      "Wall time: 1.76 s\n"
     ]
    },
    {
     "data": {
      "text/plain": [
       "<AxesSubplot:>"
      ]
     },
     "execution_count": 11,
     "metadata": {},
     "output_type": "execute_result"
    },
    {
     "data": {
      "image/png": "[encoded data removed]",
      "text/plain": [
       "<Figure size 432x288 with 1 Axes>"
      ]
     },
     "metadata": {
      "needs_background": "light"
     },
     "output_type": "display_data"
    }
   ],
   "source": [
    "%%time\n",
    "stories = num_story_col(df.copy())['stories']\n",
    "stories.hist(bins=max(stories))"
   ]
  },
  {
   "cell_type": "code",
   "execution_count": 12,
   "metadata": {},
   "outputs": [
    {
     "data": {
      "text/plain": [
       "<AxesSubplot:>"
      ]
     },
     "execution_count": 12,
     "metadata": {},
     "output_type": "execute_result"
    },
    {
     "data": {
      "image/png": "[encoded data removed]",
      "text/plain": [
       "<Figure size 432x288 with 1 Axes>"
      ]
     },
     "metadata": {
      "needs_background": "light"
     },
     "output_type": "display_data"
    }
   ],
   "source": [
    "floors = int_floor_col(df.copy())['floor']\n",
    "floors.hist(bins=max(floors))"
   ]
  },
  {
   "cell_type": "code",
   "execution_count": 13,
   "metadata": {},
   "outputs": [],
   "source": [
    "fees = fee2int_col(df.copy())[['rent', 'admin', 'deposit', 'gratuity']]"
   ]
  },
  {
   "cell_type": "code",
   "execution_count": 14,
   "metadata": {},
   "outputs": [
    {
     "name": "stdout",
     "output_type": "stream",
     "text": [
      "       Unnamed: 0     name      address        location0        location1  \\\n",
      "175214       5970  ラレーブ羽根木  東京都世田谷区羽根木１  京王井の頭線/東松原駅 歩8分  京王井の頭線/新代田駅 歩8分   \n",
      "256662       5901  ラレーブ羽根木  東京都世田谷区羽根木１  京王井の頭線/東松原駅 歩8分  京王井の頭線/新代田駅 歩8分   \n",
      "\n",
      "            location2   age height floor   rent   admin  deposit gratuity  \\\n",
      "175214  京王線/代田橋駅 歩12分  築30年    3階建  1-3階  145万円  90000円  21025万円        -   \n",
      "256662  京王線/代田橋駅 歩12分  築30年    3階建  1-3階  145万円  90000円  21025万円        -   \n",
      "\n",
      "       floor_plan      area architecture district  \n",
      "175214       3LDK  501.42m2          鉄筋系     世田谷区  \n",
      "256662       3LDK  501.42m2          鉄筋系    横浜市旭区  \n"
     ]
    },
    {
     "data": {
      "image/png": "[encoded data removed]",
      "text/plain": [
       "<Figure size 432x288 with 4 Axes>"
      ]
     },
     "metadata": {
      "needs_background": "light"
     },
     "output_type": "display_data"
    }
   ],
   "source": [
    "print(df[fees['deposit'] > 100000])\n",
    "fees = fees[fees['deposit']<100000]\n",
    "fees.hist(bins=100)\n",
    "plt.show()"
   ]
  },
  {
   "cell_type": "code",
   "execution_count": 15,
   "metadata": {},
   "outputs": [
    {
     "name": "stdout",
     "output_type": "stream",
     "text": [
      "CPU times: user 19.4 s, sys: 513 ms, total: 20 s\n",
      "Wall time: 20 s\n"
     ]
    }
   ],
   "source": [
    "%%time\n",
    "df_ = preprocess(df.copy())"
   ]
  },
  {
   "cell_type": "code",
   "execution_count": 16,
   "metadata": {},
   "outputs": [
    {
     "data": {
      "text/html": [
       "<div>\n",
       "<style scoped>\n",
       "    .dataframe tbody tr th:only-of-type {\n",
       "        vertical-align: middle;\n",
       "    }\n",
       "\n",
       "    .dataframe tbody tr th {\n",
       "        vertical-align: top;\n",
       "    }\n",
       "\n",
       "    .dataframe thead th {\n",
       "        text-align: right;\n",
       "    }\n",
       "</style>\n",
       "<table border=\"1\" class=\"dataframe\">\n",
       "  <thead>\n",
       "    <tr style=\"text-align: right;\">\n",
       "      <th></th>\n",
       "      <th>address</th>\n",
       "      <th>age</th>\n",
       "      <th>floor</th>\n",
       "      <th>rent</th>\n",
       "      <th>admin</th>\n",
       "      <th>deposit</th>\n",
       "      <th>gratuity</th>\n",
       "      <th>floor_plan</th>\n",
       "      <th>area</th>\n",
       "      <th>architecture</th>\n",
       "      <th>...</th>\n",
       "      <th>walk_time_0</th>\n",
       "      <th>bus_time_0</th>\n",
       "      <th>station_1</th>\n",
       "      <th>walk_time_1</th>\n",
       "      <th>bus_time_1</th>\n",
       "      <th>station_2</th>\n",
       "      <th>walk_time_2</th>\n",
       "      <th>bus_time_2</th>\n",
       "      <th>stories</th>\n",
       "      <th>maisonette</th>\n",
       "    </tr>\n",
       "  </thead>\n",
       "  <tbody>\n",
       "    <tr>\n",
       "      <th>0</th>\n",
       "      <td>東糀谷２</td>\n",
       "      <td>築9年</td>\n",
       "      <td>2</td>\n",
       "      <td>90</td>\n",
       "      <td>4</td>\n",
       "      <td>1</td>\n",
       "      <td>90</td>\n",
       "      <td>1K</td>\n",
       "      <td>27.74</td>\n",
       "      <td>鉄筋系</td>\n",
       "      <td>...</td>\n",
       "      <td>7</td>\n",
       "      <td>0</td>\n",
       "      <td>京急空港線/糀谷駅</td>\n",
       "      <td>13</td>\n",
       "      <td>0</td>\n",
       "      <td>京急空港線/穴守稲荷駅</td>\n",
       "      <td>14</td>\n",
       "      <td>0</td>\n",
       "      <td>5</td>\n",
       "      <td>0</td>\n",
       "    </tr>\n",
       "    <tr>\n",
       "      <th>1</th>\n",
       "      <td>東糀谷２</td>\n",
       "      <td>築9年</td>\n",
       "      <td>4</td>\n",
       "      <td>90</td>\n",
       "      <td>4</td>\n",
       "      <td>1</td>\n",
       "      <td>90</td>\n",
       "      <td>1K</td>\n",
       "      <td>27.74</td>\n",
       "      <td>鉄筋系</td>\n",
       "      <td>...</td>\n",
       "      <td>7</td>\n",
       "      <td>0</td>\n",
       "      <td>京急空港線/糀谷駅</td>\n",
       "      <td>13</td>\n",
       "      <td>0</td>\n",
       "      <td>京急空港線/穴守稲荷駅</td>\n",
       "      <td>14</td>\n",
       "      <td>0</td>\n",
       "      <td>5</td>\n",
       "      <td>0</td>\n",
       "    </tr>\n",
       "    <tr>\n",
       "      <th>2</th>\n",
       "      <td>東糀谷２</td>\n",
       "      <td>築9年</td>\n",
       "      <td>4</td>\n",
       "      <td>90</td>\n",
       "      <td>4</td>\n",
       "      <td>1</td>\n",
       "      <td>90</td>\n",
       "      <td>1K</td>\n",
       "      <td>27.74</td>\n",
       "      <td>鉄筋系</td>\n",
       "      <td>...</td>\n",
       "      <td>7</td>\n",
       "      <td>0</td>\n",
       "      <td>京急空港線/糀谷駅</td>\n",
       "      <td>13</td>\n",
       "      <td>0</td>\n",
       "      <td>京急空港線/穴守稲荷駅</td>\n",
       "      <td>14</td>\n",
       "      <td>0</td>\n",
       "      <td>5</td>\n",
       "      <td>0</td>\n",
       "    </tr>\n",
       "    <tr>\n",
       "      <th>3</th>\n",
       "      <td>東糀谷２</td>\n",
       "      <td>築9年</td>\n",
       "      <td>4</td>\n",
       "      <td>120</td>\n",
       "      <td>6</td>\n",
       "      <td>1</td>\n",
       "      <td>120</td>\n",
       "      <td>1LDK</td>\n",
       "      <td>41.05</td>\n",
       "      <td>鉄筋系</td>\n",
       "      <td>...</td>\n",
       "      <td>7</td>\n",
       "      <td>0</td>\n",
       "      <td>京急空港線/糀谷駅</td>\n",
       "      <td>13</td>\n",
       "      <td>0</td>\n",
       "      <td>京急空港線/穴守稲荷駅</td>\n",
       "      <td>14</td>\n",
       "      <td>0</td>\n",
       "      <td>5</td>\n",
       "      <td>0</td>\n",
       "    </tr>\n",
       "    <tr>\n",
       "      <th>4</th>\n",
       "      <td>北馬込１</td>\n",
       "      <td>築11年</td>\n",
       "      <td>4</td>\n",
       "      <td>100</td>\n",
       "      <td>6</td>\n",
       "      <td>1</td>\n",
       "      <td>100</td>\n",
       "      <td>1K</td>\n",
       "      <td>27.73</td>\n",
       "      <td>鉄筋系</td>\n",
       "      <td>...</td>\n",
       "      <td>7</td>\n",
       "      <td>0</td>\n",
       "      <td>東急池上線/長原駅</td>\n",
       "      <td>5</td>\n",
       "      <td>0</td>\n",
       "      <td>東急大井町線/荏原町駅</td>\n",
       "      <td>11</td>\n",
       "      <td>0</td>\n",
       "      <td>5</td>\n",
       "      <td>0</td>\n",
       "    </tr>\n",
       "    <tr>\n",
       "      <th>...</th>\n",
       "      <td>...</td>\n",
       "      <td>...</td>\n",
       "      <td>...</td>\n",
       "      <td>...</td>\n",
       "      <td>...</td>\n",
       "      <td>...</td>\n",
       "      <td>...</td>\n",
       "      <td>...</td>\n",
       "      <td>...</td>\n",
       "      <td>...</td>\n",
       "      <td>...</td>\n",
       "      <td>...</td>\n",
       "      <td>...</td>\n",
       "      <td>...</td>\n",
       "      <td>...</td>\n",
       "      <td>...</td>\n",
       "      <td>...</td>\n",
       "      <td>...</td>\n",
       "      <td>...</td>\n",
       "      <td>...</td>\n",
       "      <td>...</td>\n",
       "    </tr>\n",
       "    <tr>\n",
       "      <th>509129</th>\n",
       "      <td>都小平市花小金井１</td>\n",
       "      <td>築31年</td>\n",
       "      <td>2</td>\n",
       "      <td>50</td>\n",
       "      <td>4</td>\n",
       "      <td>1</td>\n",
       "      <td>1</td>\n",
       "      <td>1K</td>\n",
       "      <td>23.20</td>\n",
       "      <td>ブロックその他</td>\n",
       "      <td>...</td>\n",
       "      <td>4</td>\n",
       "      <td>0</td>\n",
       "      <td>None</td>\n",
       "      <td>0</td>\n",
       "      <td>0</td>\n",
       "      <td>None</td>\n",
       "      <td>0</td>\n",
       "      <td>0</td>\n",
       "      <td>3</td>\n",
       "      <td>0</td>\n",
       "    </tr>\n",
       "    <tr>\n",
       "      <th>509130</th>\n",
       "      <td>都小平市小川町１</td>\n",
       "      <td>築37年</td>\n",
       "      <td>2</td>\n",
       "      <td>40</td>\n",
       "      <td>1</td>\n",
       "      <td>40</td>\n",
       "      <td>1</td>\n",
       "      <td>1K</td>\n",
       "      <td>16.50</td>\n",
       "      <td>ブロックその他</td>\n",
       "      <td>...</td>\n",
       "      <td>10</td>\n",
       "      <td>0</td>\n",
       "      <td>西武国分寺線/鷹の台駅</td>\n",
       "      <td>11</td>\n",
       "      <td>0</td>\n",
       "      <td>西武国分寺線/小川駅</td>\n",
       "      <td>12</td>\n",
       "      <td>0</td>\n",
       "      <td>2</td>\n",
       "      <td>0</td>\n",
       "    </tr>\n",
       "    <tr>\n",
       "      <th>509131</th>\n",
       "      <td>都小平市天神町４</td>\n",
       "      <td>築27年</td>\n",
       "      <td>2</td>\n",
       "      <td>40</td>\n",
       "      <td>1</td>\n",
       "      <td>1</td>\n",
       "      <td>1</td>\n",
       "      <td>1K</td>\n",
       "      <td>17.64</td>\n",
       "      <td>ブロックその他</td>\n",
       "      <td>...</td>\n",
       "      <td>19</td>\n",
       "      <td>0</td>\n",
       "      <td>西武新宿線/小平駅</td>\n",
       "      <td>22</td>\n",
       "      <td>0</td>\n",
       "      <td>西武多摩湖線/一橋学園駅</td>\n",
       "      <td>27</td>\n",
       "      <td>0</td>\n",
       "      <td>2</td>\n",
       "      <td>0</td>\n",
       "    </tr>\n",
       "    <tr>\n",
       "      <th>509132</th>\n",
       "      <td>都小平市鈴木町１</td>\n",
       "      <td>築12年</td>\n",
       "      <td>2</td>\n",
       "      <td>60</td>\n",
       "      <td>5</td>\n",
       "      <td>1</td>\n",
       "      <td>60</td>\n",
       "      <td>1K</td>\n",
       "      <td>20.81</td>\n",
       "      <td>ブロックその他</td>\n",
       "      <td>...</td>\n",
       "      <td>13</td>\n",
       "      <td>6</td>\n",
       "      <td>西武多摩湖線/一橋学園駅</td>\n",
       "      <td>10</td>\n",
       "      <td>4</td>\n",
       "      <td>ＪＲ中央線/国分寺駅</td>\n",
       "      <td>2</td>\n",
       "      <td>12</td>\n",
       "      <td>3</td>\n",
       "      <td>0</td>\n",
       "    </tr>\n",
       "    <tr>\n",
       "      <th>509133</th>\n",
       "      <td>都小平市上水南町４</td>\n",
       "      <td>築56年</td>\n",
       "      <td>1</td>\n",
       "      <td>70</td>\n",
       "      <td>1</td>\n",
       "      <td>70</td>\n",
       "      <td>1</td>\n",
       "      <td>2K</td>\n",
       "      <td>34.70</td>\n",
       "      <td>ブロックその他</td>\n",
       "      <td>...</td>\n",
       "      <td>4</td>\n",
       "      <td>10</td>\n",
       "      <td>ＪＲ中央線/国分寺駅</td>\n",
       "      <td>28</td>\n",
       "      <td>0</td>\n",
       "      <td>None</td>\n",
       "      <td>0</td>\n",
       "      <td>0</td>\n",
       "      <td>1</td>\n",
       "      <td>0</td>\n",
       "    </tr>\n",
       "  </tbody>\n",
       "</table>\n",
       "<p>509134 rows × 23 columns</p>\n",
       "</div>"
      ],
      "text/plain": [
       "          address   age  floor  rent  admin  deposit  gratuity floor_plan  \\\n",
       "0            東糀谷２   築9年      2    90      4        1        90         1K   \n",
       "1            東糀谷２   築9年      4    90      4        1        90         1K   \n",
       "2            東糀谷２   築9年      4    90      4        1        90         1K   \n",
       "3            東糀谷２   築9年      4   120      6        1       120       1LDK   \n",
       "4            北馬込１  築11年      4   100      6        1       100         1K   \n",
       "...           ...   ...    ...   ...    ...      ...       ...        ...   \n",
       "509129  都小平市花小金井１  築31年      2    50      4        1         1         1K   \n",
       "509130   都小平市小川町１  築37年      2    40      1       40         1         1K   \n",
       "509131   都小平市天神町４  築27年      2    40      1        1         1         1K   \n",
       "509132   都小平市鈴木町１  築12年      2    60      5        1        60         1K   \n",
       "509133  都小平市上水南町４  築56年      1    70      1       70         1         2K   \n",
       "\n",
       "         area architecture  ... walk_time_0 bus_time_0     station_1  \\\n",
       "0       27.74          鉄筋系  ...           7          0     京急空港線/糀谷駅   \n",
       "1       27.74          鉄筋系  ...           7          0     京急空港線/糀谷駅   \n",
       "2       27.74          鉄筋系  ...           7          0     京急空港線/糀谷駅   \n",
       "3       41.05          鉄筋系  ...           7          0     京急空港線/糀谷駅   \n",
       "4       27.73          鉄筋系  ...           7          0     東急池上線/長原駅   \n",
       "...       ...          ...  ...         ...        ...           ...   \n",
       "509129  23.20      ブロックその他  ...           4          0          None   \n",
       "509130  16.50      ブロックその他  ...          10          0   西武国分寺線/鷹の台駅   \n",
       "509131  17.64      ブロックその他  ...          19          0     西武新宿線/小平駅   \n",
       "509132  20.81      ブロックその他  ...          13          6  西武多摩湖線/一橋学園駅   \n",
       "509133  34.70      ブロックその他  ...           4         10    ＪＲ中央線/国分寺駅   \n",
       "\n",
       "        walk_time_1  bus_time_1     station_2  walk_time_2  bus_time_2  \\\n",
       "0                13           0   京急空港線/穴守稲荷駅           14           0   \n",
       "1                13           0   京急空港線/穴守稲荷駅           14           0   \n",
       "2                13           0   京急空港線/穴守稲荷駅           14           0   \n",
       "3                13           0   京急空港線/穴守稲荷駅           14           0   \n",
       "4                 5           0   東急大井町線/荏原町駅           11           0   \n",
       "...             ...         ...           ...          ...         ...   \n",
       "509129            0           0          None            0           0   \n",
       "509130           11           0    西武国分寺線/小川駅           12           0   \n",
       "509131           22           0  西武多摩湖線/一橋学園駅           27           0   \n",
       "509132           10           4    ＪＲ中央線/国分寺駅            2          12   \n",
       "509133           28           0          None            0           0   \n",
       "\n",
       "       stories  maisonette  \n",
       "0            5           0  \n",
       "1            5           0  \n",
       "2            5           0  \n",
       "3            5           0  \n",
       "4            5           0  \n",
       "...        ...         ...  \n",
       "509129       3           0  \n",
       "509130       2           0  \n",
       "509131       2           0  \n",
       "509132       3           0  \n",
       "509133       1           0  \n",
       "\n",
       "[509134 rows x 23 columns]"
      ]
     },
     "execution_count": 16,
     "metadata": {},
     "output_type": "execute_result"
    }
   ],
   "source": [
    "df_"
   ]
  },
  {
   "cell_type": "code",
   "execution_count": 17,
   "metadata": {},
   "outputs": [
    {
     "data": {
      "image/png": "[encoded data removed]",
      "text/plain": [
       "<Figure size 720x720 with 2 Axes>"
      ]
     },
     "metadata": {
      "needs_background": "light"
     },
     "output_type": "display_data"
    }
   ],
   "source": [
    "plt.figure(figsize=(10, 10))\n",
    "sns.heatmap(df_.corr(), annot=True, fmt='.2f')\n",
    "plt.show()"
   ]
  },
  {
   "cell_type": "code",
   "execution_count": 18,
   "metadata": {},
   "outputs": [],
   "source": [
    "df_path = data_dir / 'interim' / 'kanto_preprocessed.csv'\n",
    "df_path.parent.mkdir(exist_ok=True)\n",
    "df_.to_csv(df_path)"
   ]
  }
 ],
 "metadata": {
  "kernelspec": {
   "display_name": "Python 3",
   "language": "python",
   "name": "python3"
  },
  "language_info": {
   "codemirror_mode": {
    "name": "ipython",
    "version": 3
   },
   "file_extension": ".py",
   "mimetype": "text/x-python",
   "name": "python",
   "nbconvert_exporter": "python",
   "pygments_lexer": "ipython3",
   "version": "3.8.2"
  }
 },
 "nbformat": 4,
 "nbformat_minor": 4
}
